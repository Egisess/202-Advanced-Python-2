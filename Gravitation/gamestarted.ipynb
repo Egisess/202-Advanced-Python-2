{
  "nbformat": 4,
  "nbformat_minor": 0,
  "metadata": {
    "colab": {
      "name": "gamestarted.ipynb",
      "provenance": [],
      "collapsed_sections": []
    },
    "kernelspec": {
      "name": "python3",
      "display_name": "Python 3"
    },
    "language_info": {
      "name": "python"
    }
  },
  "cells": [
    {
      "cell_type": "code",
      "execution_count": 2,
      "metadata": {
        "id": "KPjNGM9Ksr5z"
      },
      "outputs": [],
      "source": [
        "import numpy as np\n",
        "import numba as nb\n",
        "import matplotlib.pyplot as plt\n",
        "G = 0.1\n",
        "dt = 0.01"
      ]
    },
    {
      "cell_type": "code",
      "source": [
        "class CosmicBody:\n",
        "    def __init__(self, mass: np.float64, r: np.ndarray, speed: np.ndarray, name: str):\n",
        "        self.mass = mass\n",
        "        self.speed = speed\n",
        "        self.r = r\n",
        "        self.trajectory = None\n",
        "        self.history_r = np.array(self.r, dtype=np.float64)\n",
        "        self.name = name\n",
        "\n",
        "\n",
        "def kinetik_energy(self)->np.float64:\n",
        "      return self.mass * np.linalg.norm(self.speed)**2/2\n",
        "\n",
        "\n",
        "def energy_between_two_bodies(m0: np.float64, m1: np.float64, r0:np.ndarray, r1:np.ndarray) -> np.float64:\n",
        "      return -G * m0 * m1 / np.linalg.norm(r0 - r1)\n",
        "\n",
        "\n",
        "def dv_(m : np.float64, r1 : np.ndarray, r2 : np.ndarray) -> np.float64:\n",
        "      return -dt * G * m * (r2 - r1) / np.linalg.norm(r2 - r1)**3\n",
        "\n",
        "\n",
        "def full_energy(b: list) -> np.float64:\n",
        "      E = 0\n",
        "      for i in range(len(b)):\n",
        "          point = i+1\n",
        "          E += b[i].kinetik_energy()\n",
        "          while (point < len(b)):\n",
        "              E += energy_between_two_bodies(b[i].mass, b[point].mass, b[i].r, b[point].r)\n",
        "              point+=1\n",
        "      return np.fabs(E)\n",
        "\n",
        "\n",
        "def P_energy(i, b : list)-> np.float64:\n",
        "      P = 0\n",
        "      for j in b:\n",
        "        P+= G * i.mass * j.mass / np.linalg.norm(i.r-j.r)\n",
        "      return P\n"
      ],
      "metadata": {
        "id": "mdq8jj-HswBj"
      },
      "execution_count": 3,
      "outputs": []
    },
    {
      "cell_type": "code",
      "source": [
        ""
      ],
      "metadata": {
        "id": "Cq8Lp9daug8c"
      },
      "execution_count": 3,
      "outputs": []
    }
  ]
}