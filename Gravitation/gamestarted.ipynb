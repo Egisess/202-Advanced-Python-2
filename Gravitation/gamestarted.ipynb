{
  "nbformat": 4,
  "nbformat_minor": 0,
  "metadata": {
    "colab": {
      "name": "gamestarted.ipynb",
      "provenance": [],
      "collapsed_sections": []
    },
    "kernelspec": {
      "name": "python3",
      "display_name": "Python 3"
    },
    "language_info": {
      "name": "python"
    }
  },
  "cells": [
    {
      "cell_type": "code",
      "execution_count": null,
      "metadata": {
        "id": "KPjNGM9Ksr5z"
      },
      "outputs": [],
      "source": [
        "import numpy as np\n",
        "import numba as nb\n",
        "import matplotlib.pyplot as plt\n",
        "G = 0.1\n",
        "dt = 0.01"
      ]
    },
    {
      "cell_type": "code",
      "source": [
        "class CosmicBody:\n",
        "    def __init__(self, mass: float, r: np.ndarray, speed: np.ndarray, name: str):\n",
        "        self.mass = mass\n",
        "        self.speed = speed\n",
        "        self.r = r\n",
        "        self.trajectory = None\n",
        "        self.history_r = np.array(self.r, dtype=np.float64)\n",
        "        self.name = name\n",
        "\n",
        "\n",
        "def kinetik_energy(self)->np.float64:\n",
        "      return self.mass * np.linalg.norm(self.speed)**2/2"
      ],
      "metadata": {
        "id": "mdq8jj-HswBj"
      },
      "execution_count": null,
      "outputs": []
    },
    {
      "cell_type": "code",
      "source": [
        ""
      ],
      "metadata": {
        "id": "Cq8Lp9daug8c"
      },
      "execution_count": null,
      "outputs": []
    }
  ]
}